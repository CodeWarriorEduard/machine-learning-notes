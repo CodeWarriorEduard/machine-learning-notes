{
 "cells": [
  {
   "cell_type": "code",
   "execution_count": 1,
   "id": "d9f877e5-8c29-4bd4-9308-400c2fcd9a03",
   "metadata": {},
   "outputs": [],
   "source": [
    "import numpy as np\n",
    "import matplotlib.pyplot as plt"
   ]
  },
  {
   "cell_type": "markdown",
   "id": "975a4b6e-7958-4a53-a032-648efc9a6340",
   "metadata": {},
   "source": [
    "### Numpy halla el exponencial de un numero o un array usando numpy.exp"
   ]
  },
  {
   "cell_type": "code",
   "execution_count": 3,
   "id": "9484c36c-9a6f-4b22-baf3-705bbded40e3",
   "metadata": {},
   "outputs": [
    {
     "name": "stdout",
     "output_type": "stream",
     "text": [
      "Input to exp:  [1 2 3]\n",
      "Output of exp:  [ 2.71828183  7.3890561  20.08553692]\n",
      "Input to exp:  2\n",
      "Output of exp:  7.38905609893065\n"
     ]
    }
   ],
   "source": [
    "## Exponencial de los valores de un array.\n",
    "\n",
    "input_array = np.array([1,2,3])\n",
    "exp_array = np.exp(input_array)\n",
    "\n",
    "\n",
    "print(\"Input to exp: \", input_array)\n",
    "print(\"Output of exp: \", exp_array)\n",
    "\n",
    "\n",
    "## Exponencial de un unico número.\n",
    "\n",
    "\n",
    "input_n = np.array(2)\n",
    "exp_n = np.exp(input_n)\n",
    "\n",
    "print(\"Input to exp: \", input_n)\n",
    "print(\"Output of exp: \", exp_n)\n"
   ]
  },
  {
   "cell_type": "markdown",
   "id": "f4a3496e-e249-4d52-af33-8f10df7ecfea",
   "metadata": {},
   "source": [
    "### Definición de la función sigmoidal"
   ]
  },
  {
   "cell_type": "code",
   "execution_count": 5,
   "id": "c62be5ca-d188-4e33-8f53-a3f3fb22e038",
   "metadata": {},
   "outputs": [],
   "source": [
    "def sigmoid(z):\n",
    "\n",
    "    g = 1/(1+np.exp(-z))\n",
    "    \n",
    "    return g"
   ]
  },
  {
   "cell_type": "markdown",
   "id": "f528a090-83b6-4588-a940-371f89a6f064",
   "metadata": {},
   "source": [
    "### Calculo de la función sigmoidal para varios valores de z"
   ]
  },
  {
   "cell_type": "code",
   "execution_count": 9,
   "id": "34114fa4-bcbd-42ee-82be-89204b71cc74",
   "metadata": {},
   "outputs": [
    {
     "name": "stdout",
     "output_type": "stream",
     "text": [
      "Input (z), Output (Sigmoid(z))\n",
      "[[-1.000e+01  4.540e-05]\n",
      " [-9.000e+00  1.234e-04]\n",
      " [-8.000e+00  3.354e-04]\n",
      " [-7.000e+00  9.111e-04]\n",
      " [-6.000e+00  2.473e-03]\n",
      " [-5.000e+00  6.693e-03]\n",
      " [-4.000e+00  1.799e-02]\n",
      " [-3.000e+00  4.743e-02]\n",
      " [-2.000e+00  1.192e-01]\n",
      " [-1.000e+00  2.689e-01]\n",
      " [ 0.000e+00  5.000e-01]\n",
      " [ 1.000e+00  7.311e-01]\n",
      " [ 2.000e+00  8.808e-01]\n",
      " [ 3.000e+00  9.526e-01]\n",
      " [ 4.000e+00  9.820e-01]\n",
      " [ 5.000e+00  9.933e-01]\n",
      " [ 6.000e+00  9.975e-01]\n",
      " [ 7.000e+00  9.991e-01]\n",
      " [ 8.000e+00  9.997e-01]\n",
      " [ 9.000e+00  9.999e-01]\n",
      " [ 1.000e+01  1.000e+00]]\n"
     ]
    }
   ],
   "source": [
    "z_temp = np.arange(-10,11)\n",
    "\n",
    "\n",
    "y = sigmoid(z_temp)\n",
    "\n",
    "np.set_printoptions(precision=3)\n",
    "\n",
    "print(\"Input (z), Output (Sigmoid(z))\")\n",
    "print(np.c_[z_temp, y])\n",
    "\n",
    "\n",
    "\n",
    "\n"
   ]
  },
  {
   "cell_type": "code",
   "execution_count": 13,
   "id": "11a48929-7ce0-4611-ac56-9215e65d30a5",
   "metadata": {},
   "outputs": [
    {
     "data": {
      "text/plain": [
       "Text(0.5, 0, 'z')"
      ]
     },
     "execution_count": 13,
     "metadata": {},
     "output_type": "execute_result"
    },
    {
     "data": {
      "image/png": "[encoded data removed]",
      "text/plain": [
       "<Figure size 500x300 with 1 Axes>"
      ]
     },
     "metadata": {},
     "output_type": "display_data"
    }
   ],
   "source": [
    "# plot\n",
    "\n",
    "fig, ax = plt.subplots(1,1, figsize=(5,3))\n",
    "ax.plot(z_temp,y, c =\"r\")\n",
    "\n",
    "ax.set_title(\"Sigmoid function\")\n",
    "ax.set_ylabel('sigmoid(z)')\n",
    "ax.set_xlabel('z')\n",
    "\n",
    "\n",
    "\n"
   ]
  },
  {
   "cell_type": "code",
   "execution_count": null,
   "id": "bd56d929-6e2b-49a4-bdac-9a2c114dfc54",
   "metadata": {},
   "outputs": [],
   "source": []
  }
 ],
 "metadata": {
  "kernelspec": {
   "display_name": "Python 3 (ipykernel)",
   "language": "python",
   "name": "python3"
  },
  "language_info": {
   "codemirror_mode": {
    "name": "ipython",
    "version": 3
   },
   "file_extension": ".py",
   "mimetype": "text/x-python",
   "name": "python",
   "nbconvert_exporter": "python",
   "pygments_lexer": "ipython3",
   "version": "3.12.2"
  }
 },
 "nbformat": 4,
 "nbformat_minor": 5
}
